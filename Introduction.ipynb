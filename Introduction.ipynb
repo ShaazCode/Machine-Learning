{
  "nbformat": 4,
  "nbformat_minor": 0,
  "metadata": {
    "colab": {
      "provenance": [],
      "authorship_tag": "ABX9TyPDqVxHG5OpxPGVL+YjifVD",
      "include_colab_link": true
    },
    "kernelspec": {
      "name": "python3",
      "display_name": "Python 3"
    },
    "language_info": {
      "name": "python"
    }
  },
  "cells": [
    {
      "cell_type": "markdown",
      "metadata": {
        "id": "view-in-github",
        "colab_type": "text"
      },
      "source": [
        "<a href=\"https://colab.research.google.com/github/ShaazCode/Machine-Learning/blob/main/Introduction.ipynb\" target=\"_parent\"><img src=\"https://colab.research.google.com/assets/colab-badge.svg\" alt=\"Open In Colab\"/></a>"
      ]
    },
    {
      "cell_type": "code",
      "execution_count": 1,
      "metadata": {
        "id": "YzUBFp7lkRFa"
      },
      "outputs": [],
      "source": [
        "\n",
        "from google.colab import auth\n",
        "auth.authenticate_user()"
      ]
    },
    {
      "cell_type": "code",
      "source": [
        "!git config --global user.name \"ShaazCode\"\n"
      ],
      "metadata": {
        "id": "yGzpOnwPljzG"
      },
      "execution_count": 2,
      "outputs": []
    },
    {
      "cell_type": "code",
      "source": [
        "!git config --global user.email \"shaaz.code@gmail.com\"\n"
      ],
      "metadata": {
        "id": "ArzA1sAyls5N"
      },
      "execution_count": 3,
      "outputs": []
    },
    {
      "cell_type": "code",
      "source": [
        "!git clone https://github.com/ShaazCode/Machine-Learning.git\n"
      ],
      "metadata": {
        "colab": {
          "base_uri": "https://localhost:8080/"
        },
        "id": "QTqERaNDluhz",
        "outputId": "d7009318-2a05-48d6-c3d3-19916ef34711"
      },
      "execution_count": 4,
      "outputs": [
        {
          "output_type": "stream",
          "name": "stdout",
          "text": [
            "Cloning into 'Machine-Learning'...\n",
            "remote: Enumerating objects: 3, done.\u001b[K\n",
            "remote: Counting objects: 100% (3/3), done.\u001b[K\n",
            "remote: Compressing objects: 100% (2/2), done.\u001b[K\n",
            "remote: Total 3 (delta 0), reused 0 (delta 0), pack-reused 0 (from 0)\u001b[K\n",
            "Receiving objects: 100% (3/3), 103.92 KiB | 3.58 MiB/s, done.\n"
          ]
        }
      ]
    },
    {
      "cell_type": "code",
      "source": [],
      "metadata": {
        "id": "R0XCHh9Ql6Ny"
      },
      "execution_count": null,
      "outputs": []
    },
    {
      "cell_type": "markdown",
      "source": [
        "# **Introduction to Machine Learning**\n",
        "\n",
        "Machine Learing is a branch of artificial intelligence.\n",
        "\n",
        "### **Machine learnign is a way for computers to learn from data**\n",
        "\n",
        "Example:\n",
        "Scenario: Predicting whether it will rain tomorrow.\n",
        "\n",
        "Data: Past weather data including temperature, humidity, wind speed, etc.\n",
        "\n",
        "Goal: Predict rain (Yes/No).\n",
        "\n",
        "ML Approach:Feed the data to an ML model.\n",
        "\n",
        "The model learns patterns, like “if humidity is high and temperature is low, it often rains.”\n",
        "\n",
        "Next time, given today’s weather, the model predicts if it will rain. bold text\n",
        "\n"
      ],
      "metadata": {
        "id": "u15oEDJPmHtc"
      }
    },
    {
      "cell_type": "markdown",
      "source": [
        "**Steps Involved in Machine Learning**\n",
        "\n",
        "1. Gathering Data / uploading the data: Gather the relevant data from the sources like csv file, api's, database,etc\n",
        "\n",
        "2. EDA(Exploratory data analysis): Analyze the data , trends and missing values and visualize the graph\n",
        "\n",
        "3. Preprocess-Data: Pre-processs the data\n",
        "\n",
        "4. Feature Enginnering: Feature selection.\n",
        "\n",
        "5. Split Data: split the dataset into test and train set\n",
        "\n",
        "6. Choose the model: Select a suitable algorithm based on problem\n",
        "\n",
        "7. Train the model: Feed the train data so the model will learn from the pattern.\n",
        "\n",
        "8. Evaluate the model: Test the model on testing dataset\n",
        "\n",
        "9. Tune the model: Improve the performance by adjusting paramter\n",
        "\n",
        "\n",
        "Gather data\n",
        "EDA\n",
        "Feature Enginnering\n",
        "Split the data\n",
        "Train and test data\n",
        "Tune"
      ],
      "metadata": {
        "id": "TN5PiGfQnx7o"
      }
    },
    {
      "cell_type": "code",
      "source": [],
      "metadata": {
        "id": "mvi8Ru3EnSYw"
      },
      "execution_count": null,
      "outputs": []
    }
  ]
}