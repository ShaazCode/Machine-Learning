{
  "nbformat": 4,
  "nbformat_minor": 0,
  "metadata": {
    "colab": {
      "provenance": [],
      "authorship_tag": "ABX9TyPz7i5vJ/O5YfGpXSwFvviw",
      "include_colab_link": true
    },
    "kernelspec": {
      "name": "python3",
      "display_name": "Python 3"
    },
    "language_info": {
      "name": "python"
    }
  },
  "cells": [
    {
      "cell_type": "markdown",
      "metadata": {
        "id": "view-in-github",
        "colab_type": "text"
      },
      "source": [
        "<a href=\"https://colab.research.google.com/github/ShaazCode/Machine-Learning/blob/main/Decision_Tree.ipynb\" target=\"_parent\"><img src=\"https://colab.research.google.com/assets/colab-badge.svg\" alt=\"Open In Colab\"/></a>"
      ]
    },
    {
      "cell_type": "markdown",
      "source": [
        "# **Decision Tree**\n",
        "\n",
        "Decision tree is a way to make a decision or prediction by asking the series of question about the feature of your data  \n",
        "\n",
        "think its a flow chart at the end you will reaching at the decision\n",
        "\n",
        "# **working?**\n",
        "\n",
        "1. Start with all your data\n",
        "\n",
        "2. ask the best question that splits the data into group\n",
        "\n",
        "3. Repeat this process\n",
        "\n",
        "\n",
        "Example to play cricket or not\n",
        "\n",
        "Question 1: is it sunny?\n",
        "\n",
        "Yes-> Check humidity\n",
        "\n",
        "No-> Check wind\n",
        "\n",
        "Question 2: if sunny? humidity is high?\n",
        "high -> Dont play\n",
        "\n",
        "low -> Play\n",
        "\n",
        "\n",
        "Why decision tree is useful?\n",
        "\n",
        "1. Easy to understand : Logic like human reasoning\n",
        "\n",
        "2. Handle different types of data: numerical and categorical also\n",
        "\n",
        "3. Non - linear relationship: capture complex patter that linear regression cannot\n",
        "\n",
        "4. No feature scaling neede: work on raw input data\n",
        "\n",
        "Limitation?\n",
        "\n",
        "1. overfitting.\n",
        "\n",
        "\n",
        "\n",
        "A decision tree is like a series of “if-then” questions you ask your data to reach a decision. You start broad at the top, and gradually split the data into smaller, purer groups until you can make a confident prediction.\n",
        "\n",
        "Root node: First question (entire dataset)\n",
        "\n",
        "Internal node: Each subsequent question\n",
        "\n",
        "Branch: The answer to a question\n",
        "\n",
        "Leaf node: Final prediction\n",
        "\n"
      ],
      "metadata": {
        "id": "X8ChuH1NKM_U"
      }
    },
    {
      "cell_type": "markdown",
      "source": [
        "# **Decision Tree**"
      ],
      "metadata": {
        "id": "Ey9ZHTUcpmt6"
      }
    },
    {
      "cell_type": "code",
      "execution_count": null,
      "metadata": {
        "id": "ArDvllscIs0q"
      },
      "outputs": [],
      "source": []
    }
  ]
}