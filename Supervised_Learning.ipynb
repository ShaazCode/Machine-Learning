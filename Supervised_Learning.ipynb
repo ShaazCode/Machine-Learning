{
  "nbformat": 4,
  "nbformat_minor": 0,
  "metadata": {
    "colab": {
      "provenance": [],
      "authorship_tag": "ABX9TyMNbn/44zciu4okHGMdrGbt",
      "include_colab_link": true
    },
    "kernelspec": {
      "name": "python3",
      "display_name": "Python 3"
    },
    "language_info": {
      "name": "python"
    }
  },
  "cells": [
    {
      "cell_type": "markdown",
      "metadata": {
        "id": "view-in-github",
        "colab_type": "text"
      },
      "source": [
        "<a href=\"https://colab.research.google.com/github/ShaazCode/Machine-Learning/blob/main/Supervised_Learning.ipynb\" target=\"_parent\"><img src=\"https://colab.research.google.com/assets/colab-badge.svg\" alt=\"Open In Colab\"/></a>"
      ]
    },
    {
      "cell_type": "markdown",
      "source": [],
      "metadata": {
        "id": "JKIRd4ZpNvvo"
      }
    },
    {
      "cell_type": "code",
      "execution_count": 1,
      "metadata": {
        "id": "HDSeHhjANizs"
      },
      "outputs": [],
      "source": [
        "\n",
        "from google.colab import auth\n",
        "auth.authenticate_user()"
      ]
    },
    {
      "cell_type": "code",
      "source": [
        "!git config --global user.name \"ShaazCode\"\n"
      ],
      "metadata": {
        "id": "m96JcrmHNysb"
      },
      "execution_count": 2,
      "outputs": []
    },
    {
      "cell_type": "code",
      "source": [
        "!git config --global user.email \"shaaz.code@gmail.com\"\n"
      ],
      "metadata": {
        "id": "OnOA8jD1N2os"
      },
      "execution_count": 3,
      "outputs": []
    },
    {
      "cell_type": "code",
      "source": [
        "!git clone https://github.com/ShaazCode/Machine-Learning.git\n"
      ],
      "metadata": {
        "colab": {
          "base_uri": "https://localhost:8080/"
        },
        "id": "rgcscb3tN5El",
        "outputId": "36acea8b-9653-40a0-d13a-fc9531e9860f"
      },
      "execution_count": 4,
      "outputs": [
        {
          "output_type": "stream",
          "name": "stdout",
          "text": [
            "Cloning into 'Machine-Learning'...\n",
            "remote: Enumerating objects: 9, done.\u001b[K\n",
            "remote: Counting objects: 100% (9/9), done.\u001b[K\n",
            "remote: Compressing objects: 100% (8/8), done.\u001b[K\n",
            "remote: Total 9 (delta 1), reused 0 (delta 0), pack-reused 0 (from 0)\u001b[K\n",
            "Receiving objects: 100% (9/9), 106.15 KiB | 3.93 MiB/s, done.\n",
            "Resolving deltas: 100% (1/1), done.\n"
          ]
        }
      ]
    },
    {
      "cell_type": "markdown",
      "source": [
        "# **Introduction to Supervised Learning**"
      ],
      "metadata": {
        "id": "xqOdtFLlOc8x"
      }
    },
    {
      "cell_type": "markdown",
      "source": [
        "**Supervised learning is a type of machine learning where we teach the model using labeled data.**\n",
        "\n",
        "we already knows the input (features) and the correct output(label of a answer).\n",
        "\n",
        "The model learn the relationship between them (features), so it can predict the output for new label data\n",
        "\n",
        "For example:\n",
        "You are teaching computer to predict to recognize fruit.\n",
        "\n",
        "Color\t   Size\t   Shape\tFruit Name\n",
        "Red\t     Small   Round\tApple\n",
        "Yellow   Long    Curved\tBanana\n",
        "Green\t   Small\t Round\tApple\n",
        "\n",
        "So here's the dataset\n",
        "the input(features) color, size, shape\n",
        "the output(label) is fruit name.\n",
        "\n",
        "So the computer learns the pattern like if the color is red and size is small and shape is round then it will be apple.\n",
        "\n",
        "There are two main types of supervised learning\n",
        "1. Regression\n",
        "2. Classification\n",
        "\n",
        "When the output is number then its of regression type\n",
        "and when the output is in category then its classification\n",
        "\n",
        "\n",
        "\n",
        "\n"
      ],
      "metadata": {
        "id": "dRStHFrGOie_"
      }
    },
    {
      "cell_type": "markdown",
      "source": [
        "# **Regression**"
      ],
      "metadata": {
        "id": "HvoEWVL-RfB1"
      }
    },
    {
      "cell_type": "markdown",
      "source": [
        "**Regressiion is a type of supervised learning where the output we want to predict is number (continous value) not a category**\n",
        "\n",
        "Regression help us predict How much / How manysomething will be\n",
        "\n",
        "Lets say we want to predict the price of house\n",
        "\n",
        "\n",
        "| Size (sqft) | Location Score | Price (₹ Lakhs) |\n",
        "| ----------- | -------------- | --------------- |\n",
        "| 1000        | 7              | 50              |\n",
        "| 1500        | 8              | 70              |\n",
        "| 2000        | 9              | 90              |\n",
        "\n",
        "for example here\n",
        "Input: size, location score\n",
        "Output: Price\n",
        "\n",
        "The model learn the relationship(pattern) betweeen x and y\n",
        "e.g Bigger house in better location usually cost more\n",
        "Then when we give new house say 1800sqft and location score is 8 then it will predict the price as 85Lakh.\n",
        "\n",
        "\n"
      ],
      "metadata": {
        "id": "kCugM77JSqbn"
      }
    }
  ]
}