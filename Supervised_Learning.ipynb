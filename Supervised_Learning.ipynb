{
  "nbformat": 4,
  "nbformat_minor": 0,
  "metadata": {
    "colab": {
      "provenance": [],
      "authorship_tag": "ABX9TyPxT9GWt8e/7wjc22B2MnDm",
      "include_colab_link": true
    },
    "kernelspec": {
      "name": "python3",
      "display_name": "Python 3"
    },
    "language_info": {
      "name": "python"
    }
  },
  "cells": [
    {
      "cell_type": "markdown",
      "metadata": {
        "id": "view-in-github",
        "colab_type": "text"
      },
      "source": [
        "<a href=\"https://colab.research.google.com/github/ShaazCode/Machine-Learning/blob/main/Supervised_Learning.ipynb\" target=\"_parent\"><img src=\"https://colab.research.google.com/assets/colab-badge.svg\" alt=\"Open In Colab\"/></a>"
      ]
    },
    {
      "cell_type": "markdown",
      "source": [],
      "metadata": {
        "id": "JKIRd4ZpNvvo"
      }
    },
    {
      "cell_type": "code",
      "execution_count": null,
      "metadata": {
        "id": "HDSeHhjANizs"
      },
      "outputs": [],
      "source": [
        "\n",
        "from google.colab import auth\n",
        "auth.authenticate_user()"
      ]
    },
    {
      "cell_type": "code",
      "source": [
        "!git config --global user.name \"ShaazCode\"\n"
      ],
      "metadata": {
        "id": "m96JcrmHNysb"
      },
      "execution_count": null,
      "outputs": []
    },
    {
      "cell_type": "code",
      "source": [
        "!git config --global user.email \"shaaz.code@gmail.com\"\n"
      ],
      "metadata": {
        "id": "OnOA8jD1N2os"
      },
      "execution_count": null,
      "outputs": []
    },
    {
      "cell_type": "code",
      "source": [
        "!git clone https://github.com/ShaazCode/Machine-Learning.git\n"
      ],
      "metadata": {
        "colab": {
          "base_uri": "https://localhost:8080/"
        },
        "id": "rgcscb3tN5El",
        "outputId": "36acea8b-9653-40a0-d13a-fc9531e9860f"
      },
      "execution_count": null,
      "outputs": [
        {
          "output_type": "stream",
          "name": "stdout",
          "text": [
            "Cloning into 'Machine-Learning'...\n",
            "remote: Enumerating objects: 9, done.\u001b[K\n",
            "remote: Counting objects: 100% (9/9), done.\u001b[K\n",
            "remote: Compressing objects: 100% (8/8), done.\u001b[K\n",
            "remote: Total 9 (delta 1), reused 0 (delta 0), pack-reused 0 (from 0)\u001b[K\n",
            "Receiving objects: 100% (9/9), 106.15 KiB | 3.93 MiB/s, done.\n",
            "Resolving deltas: 100% (1/1), done.\n"
          ]
        }
      ]
    },
    {
      "cell_type": "markdown",
      "source": [
        "# **Introduction to Supervised Learning**"
      ],
      "metadata": {
        "id": "xqOdtFLlOc8x"
      }
    },
    {
      "cell_type": "markdown",
      "source": [
        "**Supervised learning is a type of machine learning where we teach the model using labeled data.**\n",
        "\n",
        "we already knows the input (features) and the correct output(label of a answer).\n",
        "\n",
        "The model learn the relationship between them (features), so it can predict the output for new label data\n",
        "\n",
        "For example:\n",
        "You are teaching computer to predict to recognize fruit.\n",
        "\n",
        "Color\t   Size\t   Shape\tFruit Name\n",
        "Red\t     Small   Round\tApple\n",
        "Yellow   Long    Curved\tBanana\n",
        "Green\t   Small\t Round\tApple\n",
        "\n",
        "So here's the dataset\n",
        "the input(features) color, size, shape\n",
        "the output(label) is fruit name.\n",
        "\n",
        "So the computer learns the pattern like if the color is red and size is small and shape is round then it will be apple.\n",
        "\n",
        "There are two main types of supervised learning\n",
        "1. Regression\n",
        "2. Classification\n",
        "\n",
        "When the output is number then its of regression type\n",
        "and when the output is in category then its classification\n",
        "\n",
        "\n",
        "\n",
        "\n"
      ],
      "metadata": {
        "id": "dRStHFrGOie_"
      }
    },
    {
      "cell_type": "markdown",
      "source": [
        "# **Regression**"
      ],
      "metadata": {
        "id": "HvoEWVL-RfB1"
      }
    },
    {
      "cell_type": "markdown",
      "source": [
        "**Regressiion is a type of supervised learning where the output we want to predict is number (continous value) not a category**\n",
        "\n",
        "Regression help us predict How much / How manysomething will be\n",
        "\n",
        "Lets say we want to predict the price of house\n",
        "\n",
        "\n",
        "| Size (sqft) | Location Score | Price (₹ Lakhs) |\n",
        "| ----------- | -------------- | --------------- |\n",
        "| 1000        | 7              | 50              |\n",
        "| 1500        | 8              | 70              |\n",
        "| 2000        | 9              | 90              |\n",
        "\n",
        "for example here\n",
        "Input: size, location score\n",
        "Output: Price\n",
        "\n",
        "The model learn the relationship(pattern) betweeen x and y\n",
        "e.g Bigger house in better location usually cost more\n",
        "Then when we give new house say 1800sqft and location score is 8 then it will predict the price as 85Lakh.\n",
        "\n",
        "(Continously) means all the value should be numerical it's not like any string all will be numeric"
      ],
      "metadata": {
        "id": "kCugM77JSqbn"
      }
    },
    {
      "cell_type": "markdown",
      "source": [
        "# **Types of Regression**"
      ],
      "metadata": {
        "id": "wfHOp2AOWG9v"
      }
    },
    {
      "cell_type": "markdown",
      "source": [
        "1. Linear Regression\n",
        "2. Multiple Linear Regression\n",
        "3. Polynomial Regression\n",
        "4. Ridge Regression\n",
        "5. Lasso Regression\n",
        "6. Elastic Net Regression"
      ],
      "metadata": {
        "id": "FXNFqlSPWYNq"
      }
    },
    {
      "cell_type": "markdown",
      "source": [
        "# **Linear Regression**"
      ],
      "metadata": {
        "id": "_O3lqzUvWutH"
      }
    },
    {
      "cell_type": "markdown",
      "source": [
        "Linear Regression is a type of supervised learning used to predict the numeric value based on given data.\n",
        "\n",
        "Linear regression it find the straight line relationship between the input x and output y\n",
        "\n",
        "A straight line means the shortest (path) distance between two points. It goes in one direction it doesn't curve, bent or twist\n",
        "\n",
        "let's say if we want to predict the marks based on hour studies then\n",
        "\n",
        "| Hours Studied (X) | Marks (Y) |\n",
        "| ----------------- | --------- |\n",
        "| 1                 | 35        |\n",
        "| 2                 | 45        |\n",
        "| 3                 | 50        |\n",
        "| 4                 | 60        |\n",
        "| 5                 | 70        |\n",
        "\n",
        "\n",
        "If we plot this on a graph then we can notice points goes upward it mean the hour studied , mark also increase.\n",
        "\n",
        "## **Equation**\n",
        "#     y = mX + c\n",
        "\n",
        "y = Predicted output\n",
        "\n",
        "X = Input\n",
        "\n",
        "m = slope( how much y changes when x increases)\n",
        "\n",
        "c = intercept (the value of y when x = 0)\n",
        "\n",
        "\n",
        "\n"
      ],
      "metadata": {
        "id": "lL9ngMKFWxVq"
      }
    },
    {
      "cell_type": "markdown",
      "source": [
        "## **How the Model works(Linear Regression)**\n",
        "\n",
        "1. The algorithm looks at all the data points\n",
        "2. it tries to draw a line that is cloest to all points\n",
        "3. The “closeness” is measured by minimizing the errors (difference between actual and predicted values).\n",
        "\n",
        "\n",
        "Marks ↑\n",
        "   |           ●\n",
        "70 |        ●\n",
        "60 |     ●\n",
        "50 |  ●\n",
        "40 |●\n",
        "   |__________________________→ Hours Studied\n",
        "     1   2   3   4   5\n",
        "\n",
        "Okay so here if we will see m (means how much y changes when x increases)"
      ],
      "metadata": {
        "id": "mZB2wfzHZdov"
      }
    },
    {
      "cell_type": "markdown",
      "source": [
        "# **Multiple Linear Regression**\n"
      ],
      "metadata": {
        "id": "hZ8qrQBRzLI3"
      }
    },
    {
      "cell_type": "markdown",
      "source": [
        "Multiple linear regression is just type of linear regression but instead of one feature, we use two or more features to predict the output\n",
        "\n",
        "In simple words we look many factor at same time to predict the numerical value\n",
        "\n",
        "Suppose we want to predict the price of house\n",
        "\n",
        "| Size (X₁) | Location (X₂) | Rooms (X₃) | Price (Y) |\n",
        "| --------- | ------------- | ---------- | --------- |\n",
        "| 1000      | 7             | 2          | 50        |\n",
        "| 1500      | 8             | 3          | 70        |\n",
        "| 2000      | 9             | 4          | 95        |\n",
        "\n",
        "\n",
        "\n",
        "Inputs (features/X): Size, Location Score, Number of Rooms\n",
        "\n",
        "Output (Y): Price\n",
        "\n",
        "Here, price depends on multiple factors, not just one."
      ],
      "metadata": {
        "id": "ghqZmw5bzOS5"
      }
    },
    {
      "cell_type": "markdown",
      "source": [
        "Equation\n",
        "Y=b0​+b1​X1​+b2​X2​+b3​X3​\n",
        "\n",
        "b0 = Intercept (when all are zero)\n",
        "\n",
        "b1, b2, b3 = Slope for each feature(how much each feature affect price)\n",
        "\n",
        "x1,x2,x3 = Input Feature\n",
        "\n",
        "| Size (X₁) | Location (X₂) | Rooms (X₃) | Price (Y) |\n",
        "| --------- | ------------- | ---------- | --------- |\n",
        "| 1000      | 7             | 2          | 50        |\n",
        "| 1500      | 8             | 3          | 70        |\n",
        "| 2000      | 9             | 4          | 95        |\n",
        "\n",
        "\n",
        "Here (Y) Predict on all three features\n",
        "\n",
        "Each feature contribute diffirently: bigger size, better location , more rooms => Higher Price\n",
        "\n",
        "Equation Intuition:\n",
        "\n",
        "Y = b0 + b1X1 + b2X2 + b3X3\n",
        "\n",
        "Price = b0 + b1(size) + b2(location) + b3(Rooms)\n",
        "\n",
        "b0 = base price if all feature = 0\n",
        "b1=> How much price increase per unit size\n",
        "b2=> How much price increase per location point\n",
        "b3=> how much price increase per room\n",
        "how the model finds b1,b2,b3 are the coffecient (weights) they show how uch each features contribute to the output"
      ],
      "metadata": {
        "id": "xgnIY2t_zpmE"
      }
    },
    {
      "cell_type": "markdown",
      "source": [
        "| Size (X₁) | Location (X₂) | Rooms (X₃) | Price (Y) |\n",
        "| --------- | ------------- | ---------- | --------- |\n",
        "| 1000      | 7             | 2          | 50        |\n",
        "| 1500      | 8             | 3          | 70        |\n",
        "| 2000      | 9             | 4          | 95        |\n",
        "\n",
        "\n",
        "Explinatation:\n",
        "\n",
        "So if we observe row no 1 & 2\n",
        "\n",
        "Feature     Change    Price Change\n",
        "Size         +500       +20\n",
        "\n",
        "Location      +1        +20\n",
        "\n",
        "Rooms         +1        +20\n",
        "\n"
      ],
      "metadata": {
        "id": "jkxCbRNS1AQq"
      }
    }
  ]
}