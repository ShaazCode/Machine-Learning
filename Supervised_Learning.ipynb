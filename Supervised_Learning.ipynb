{
  "nbformat": 4,
  "nbformat_minor": 0,
  "metadata": {
    "colab": {
      "provenance": [],
      "authorship_tag": "ABX9TyMCpKOHs29OBP/Nyy4H4Y+W",
      "include_colab_link": true
    },
    "kernelspec": {
      "name": "python3",
      "display_name": "Python 3"
    },
    "language_info": {
      "name": "python"
    }
  },
  "cells": [
    {
      "cell_type": "markdown",
      "metadata": {
        "id": "view-in-github",
        "colab_type": "text"
      },
      "source": [
        "<a href=\"https://colab.research.google.com/github/ShaazCode/Machine-Learning/blob/main/Supervised_Learning.ipynb\" target=\"_parent\"><img src=\"https://colab.research.google.com/assets/colab-badge.svg\" alt=\"Open In Colab\"/></a>"
      ]
    },
    {
      "cell_type": "markdown",
      "source": [],
      "metadata": {
        "id": "JKIRd4ZpNvvo"
      }
    },
    {
      "cell_type": "code",
      "execution_count": null,
      "metadata": {
        "id": "HDSeHhjANizs"
      },
      "outputs": [],
      "source": [
        "\n",
        "from google.colab import auth\n",
        "auth.authenticate_user()"
      ]
    },
    {
      "cell_type": "code",
      "source": [
        "!git config --global user.name \"ShaazCode\"\n"
      ],
      "metadata": {
        "id": "m96JcrmHNysb"
      },
      "execution_count": null,
      "outputs": []
    },
    {
      "cell_type": "code",
      "source": [
        "!git config --global user.email \"shaaz.code@gmail.com\"\n"
      ],
      "metadata": {
        "id": "OnOA8jD1N2os"
      },
      "execution_count": null,
      "outputs": []
    },
    {
      "cell_type": "code",
      "source": [
        "!git clone https://github.com/ShaazCode/Machine-Learning.git\n"
      ],
      "metadata": {
        "colab": {
          "base_uri": "https://localhost:8080/"
        },
        "id": "rgcscb3tN5El",
        "outputId": "36acea8b-9653-40a0-d13a-fc9531e9860f"
      },
      "execution_count": null,
      "outputs": [
        {
          "output_type": "stream",
          "name": "stdout",
          "text": [
            "Cloning into 'Machine-Learning'...\n",
            "remote: Enumerating objects: 9, done.\u001b[K\n",
            "remote: Counting objects: 100% (9/9), done.\u001b[K\n",
            "remote: Compressing objects: 100% (8/8), done.\u001b[K\n",
            "remote: Total 9 (delta 1), reused 0 (delta 0), pack-reused 0 (from 0)\u001b[K\n",
            "Receiving objects: 100% (9/9), 106.15 KiB | 3.93 MiB/s, done.\n",
            "Resolving deltas: 100% (1/1), done.\n"
          ]
        }
      ]
    },
    {
      "cell_type": "markdown",
      "source": [
        "# **Introduction to Supervised Learning**"
      ],
      "metadata": {
        "id": "xqOdtFLlOc8x"
      }
    },
    {
      "cell_type": "markdown",
      "source": [
        "**Supervised learning is a type of machine learning where we teach the model using labeled data.**\n",
        "\n",
        "we already knows the input (features) and the correct output(label of a answer).\n",
        "\n",
        "The model learn the relationship between them (features), so it can predict the output for new label data\n",
        "\n",
        "For example:\n",
        "You are teaching computer to predict to recognize fruit.\n",
        "\n",
        "Color\t   Size\t   Shape\tFruit Name\n",
        "Red\t     Small   Round\tApple\n",
        "Yellow   Long    Curved\tBanana\n",
        "Green\t   Small\t Round\tApple\n",
        "\n",
        "So here's the dataset\n",
        "the input(features) color, size, shape\n",
        "the output(label) is fruit name.\n",
        "\n",
        "So the computer learns the pattern like if the color is red and size is small and shape is round then it will be apple.\n",
        "\n",
        "There are two main types of supervised learning\n",
        "1. Regression\n",
        "2. Classification\n",
        "\n",
        "When the output is number then its of regression type\n",
        "and when the output is in category then its classification\n",
        "\n",
        "\n",
        "\n",
        "\n"
      ],
      "metadata": {
        "id": "dRStHFrGOie_"
      }
    },
    {
      "cell_type": "markdown",
      "source": [
        "# **Regression**"
      ],
      "metadata": {
        "id": "HvoEWVL-RfB1"
      }
    },
    {
      "cell_type": "markdown",
      "source": [
        "**Regressiion is a type of supervised learning where the output we want to predict is number (continous value) not a category**\n",
        "\n",
        "Regression help us predict How much / How manysomething will be\n",
        "\n",
        "Lets say we want to predict the price of house\n",
        "\n",
        "\n",
        "| Size (sqft) | Location Score | Price (₹ Lakhs) |\n",
        "| ----------- | -------------- | --------------- |\n",
        "| 1000        | 7              | 50              |\n",
        "| 1500        | 8              | 70              |\n",
        "| 2000        | 9              | 90              |\n",
        "\n",
        "for example here\n",
        "Input: size, location score\n",
        "Output: Price\n",
        "\n",
        "The model learn the relationship(pattern) betweeen x and y\n",
        "e.g Bigger house in better location usually cost more\n",
        "Then when we give new house say 1800sqft and location score is 8 then it will predict the price as 85Lakh.\n",
        "\n",
        "(Continously) means all the value should be numerical it's not like any string all will be numeric"
      ],
      "metadata": {
        "id": "kCugM77JSqbn"
      }
    },
    {
      "cell_type": "markdown",
      "source": [
        "# **Types of Regression**"
      ],
      "metadata": {
        "id": "wfHOp2AOWG9v"
      }
    },
    {
      "cell_type": "markdown",
      "source": [
        "1. Linear Regression\n",
        "2. Multiple Linear Regression\n",
        "3. Polynomial Regression\n",
        "4. Ridge Regression\n",
        "5. Lasso Regression\n",
        "6. Elastic Net Regression"
      ],
      "metadata": {
        "id": "FXNFqlSPWYNq"
      }
    },
    {
      "cell_type": "markdown",
      "source": [
        "# **Linear Regression**"
      ],
      "metadata": {
        "id": "_O3lqzUvWutH"
      }
    },
    {
      "cell_type": "markdown",
      "source": [
        "Linear Regression is a type of supervised learning used to predict the numeric value based on given data.\n",
        "\n",
        "Linear regression it find the straight line relationship between the input x and output y\n",
        "\n",
        "A straight line means the shortest (path) distance between two points. It goes in one direction it doesn't curve, bent or twist\n",
        "\n",
        "let's say if we want to predict the marks based on hour studies then\n",
        "\n",
        "| Hours Studied (X) | Marks (Y) |\n",
        "| ----------------- | --------- |\n",
        "| 1                 | 35        |\n",
        "| 2                 | 45        |\n",
        "| 3                 | 50        |\n",
        "| 4                 | 60        |\n",
        "| 5                 | 70        |\n",
        "\n",
        "\n",
        "If we plot this on a graph then we can notice points goes upward it mean the hour studied , mark also increase.\n",
        "\n",
        "## **Equation**\n",
        "#     y = mX + c\n",
        "\n",
        "y = Predicted output\n",
        "\n",
        "X = Input\n",
        "\n",
        "m = slope( how much y changes when x increases)\n",
        "\n",
        "c = intercept (the value of y when x = 0)\n",
        "\n",
        "\n",
        "\n"
      ],
      "metadata": {
        "id": "lL9ngMKFWxVq"
      }
    },
    {
      "cell_type": "markdown",
      "source": [
        "## **How the Model works(Linear Regression)**\n",
        "\n",
        "1. The algorithm looks at all the data points\n",
        "2. it tries to draw a line that is cloest to all points\n",
        "3. The “closeness” is measured by minimizing the errors (difference between actual and predicted values).\n",
        "\n",
        "\n",
        "Marks ↑\n",
        "   |           ●\n",
        "70 |        ●\n",
        "60 |     ●\n",
        "50 |  ●\n",
        "40 |●\n",
        "   |__________________________→ Hours Studied\n",
        "     1   2   3   4   5\n",
        "\n",
        "Okay so here if we will see m (means how much y changes when x increases)"
      ],
      "metadata": {
        "id": "mZB2wfzHZdov"
      }
    },
    {
      "cell_type": "markdown",
      "source": [
        "# **Multiple Linear Regression**\n"
      ],
      "metadata": {
        "id": "hZ8qrQBRzLI3"
      }
    },
    {
      "cell_type": "markdown",
      "source": [
        "Multiple linear regression is just type of linear regression but instead of one feature, we use two or more features to predict the output\n",
        "\n",
        "In simple words we look many factor at same time to predict the numerical value\n",
        "\n",
        "Suppose we want to predict the price of house\n",
        "\n",
        "| Size (X₁) | Location (X₂) | Rooms (X₃) | Price (Y) |\n",
        "| --------- | ------------- | ---------- | --------- |\n",
        "| 1000      | 7             | 2          | 50        |\n",
        "| 1500      | 8             | 3          | 70        |\n",
        "| 2000      | 9             | 4          | 95        |\n",
        "\n",
        "\n",
        "\n",
        "Inputs (features/X): Size, Location Score, Number of Rooms\n",
        "\n",
        "Output (Y): Price\n",
        "\n",
        "Here, price depends on multiple factors, not just one."
      ],
      "metadata": {
        "id": "ghqZmw5bzOS5"
      }
    },
    {
      "cell_type": "markdown",
      "source": [
        "Equation\n",
        "Y=b0​+b1​X1​+b2​X2​+b3​X3​\n",
        "\n",
        "b0 = Intercept (when all are zero)\n",
        "\n",
        "b1, b2, b3 = Slope for each feature(how much each feature affect price)\n",
        "\n",
        "x1,x2,x3 = Input Feature\n",
        "\n",
        "| Size (X₁) | Location (X₂) | Rooms (X₃) | Price (Y) |\n",
        "| --------- | ------------- | ---------- | --------- |\n",
        "| 1000      | 7             | 2          | 50        |\n",
        "| 1500      | 8             | 3          | 70        |\n",
        "| 2000      | 9             | 4          | 95        |\n",
        "\n",
        "\n",
        "Here (Y) Predict on all three features\n",
        "\n",
        "Each feature contribute diffirently: bigger size, better location , more rooms => Higher Price\n",
        "\n",
        "Equation Intuition:\n",
        "\n",
        "Y = b0 + b1X1 + b2X2 + b3X3\n",
        "\n",
        "Price = b0 + b1(size) + b2(location) + b3(Rooms)\n",
        "\n",
        "b0 = base price if all feature = 0\n",
        "b1=> How much price increase per unit size\n",
        "b2=> How much price increase per location point\n",
        "b3=> how much price increase per room\n",
        "how the model finds b1,b2,b3 are the coffecient (weights) they show how uch each features contribute to the output"
      ],
      "metadata": {
        "id": "xgnIY2t_zpmE"
      }
    },
    {
      "cell_type": "markdown",
      "source": [
        "| Size (X₁) | Location (X₂) | Rooms (X₃) | Price (Y) |\n",
        "| --------- | ------------- | ---------- | --------- |\n",
        "| 1000      | 7             | 2          | 50        |\n",
        "| 1500      | 8             | 3          | 70        |\n",
        "| 2000      | 9             | 4          | 95        |\n",
        "\n",
        "\n",
        "Explinatation:\n",
        "\n",
        "So if we observe row no 1 & 2\n",
        "| Feature  | Change | Price Change |\n",
        "| -------- | ------ | ------------ |\n",
        "| Size     | +500   | +20          |\n",
        "| Location | +1     | +20          |\n",
        "| Rooms    | +1     | +20          |\n",
        "\n",
        "\n",
        "so if we observe row 2 & 3\n",
        "\n",
        "| Feature  | Change | Price Change |\n",
        "| -------- | ------ | ------------ |\n",
        "| Size     | +500   | +25          |\n",
        "| Location | +1     | +25          |\n",
        "| Rooms    | +1     | +25          |\n",
        "\n",
        "So roughy we can say :  \n",
        "Size increase by 500 , then price increase by 20 - 25 Lakh\n",
        "Increasing Location by 1 increases Price by around 20–25 Lakhs\n",
        "Increasing Rooms by 1 increases Price by around 20–25 Lakhs\n",
        "\n",
        "Step 2: Building intution for each coffecient\n",
        "\n",
        "    Y = b0 + b1X1 + b2X2 + b3X3\n",
        "    Price = b0 + b1(size) + b2(location) + b3(Rooms)\n",
        "\n",
        "\n",
        "**b1 -> for size **\n",
        "When we increase from 1000 to 1500 to 2000 , price increases by roughlt 20 -25Lakh\n",
        "\n",
        "That’s 500 sqft → ~+22.5 Lakhs, or per 1 sqft = 22.5 / 500 = 0.045 Lakhs per sqft.\n",
        "\n",
        "Every extra 1 sqft adds about ₹0.045 Lakhs, or ₹4,500 to the price.\n",
        "\n",
        "**b₂ → for Location**\n",
        "\n",
        "Location increases by 1 each time, and Price goes up by roughly 22–25 Lakhs again.\n",
        "So,\n",
        "\n",
        "b₂ ≈ 20–25, let’s take b₂ = 22\n",
        "\n",
        "(Meaning: every 1-point increase in Location Score adds ₹22 Lakhs to the price.)\n",
        "\n",
        "\n",
        "**b₃ → for Rooms**\n",
        "\n",
        "Rooms go up by 1 each time, and Price also rises by ~22–25 Lakhs.\n",
        "So,\n",
        "\n",
        "b₃ ≈ 22\n",
        "\n",
        "(Meaning: adding one more room adds around ₹22 Lakhs to the price.)\n",
        "\n",
        "\n",
        "b₀ → Intercept\n",
        "\n",
        "So, if we plug in approximate values:\n",
        "50=b0​+0.045(1000)+22(7)+22(2)\n",
        "50=b0​+45+154+44\n",
        "b0​=50−243=−193\n",
        "\n",
        "So,\n",
        "\n",
        "b₀ ≈ -193\n",
        "\n",
        "Final Approximate Equation\n",
        "\n",
        "**Price=−193+0.045(Size)+22(Location)+22(Rooms)**​"
      ],
      "metadata": {
        "id": "jkxCbRNS1AQq"
      }
    },
    {
      "cell_type": "markdown",
      "source": [
        "# **Polynomial Regression**"
      ],
      "metadata": {
        "id": "sqcuBo2Q8gLn"
      }
    },
    {
      "cell_type": "markdown",
      "source": [
        "Polynomial regression is a just an extension of linear regression, but instead of fitting a straight line , we fit a curved line to capture more complex patterns\n",
        "\n",
        "![image.png](data:image/png;base64,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)"
      ],
      "metadata": {
        "id": "VRMdKJ8-8lDo"
      }
    },
    {
      "cell_type": "markdown",
      "source": [
        "In linear regression it increase or decrease evenly. but when we talk about the polynomial regression\n",
        "\n",
        "But some time data form a curve like this:\n",
        "\n",
        "Example:  \n",
        "Salary increase fast at first then slows down   => Not a Staright line\n",
        "\n",
        "Growth of plant over time => Start slow -> rises fast -> slow\n",
        "\n"
      ],
      "metadata": {
        "id": "fZWlTEO-9KGr"
      }
    },
    {
      "cell_type": "markdown",
      "source": [
        "# **What polynomial regression does?**"
      ],
      "metadata": {
        "id": "QCL_oL5u93va"
      }
    },
    {
      "cell_type": "markdown",
      "source": [
        "Polynomial regression add the power to X to let the model curve\n",
        "   Y = b0 + b1X + b2X2(sqaure) + b3X3(cube)+ ...s\n",
        "\n",
        "Now the model can bend and twist to fit curved data\n",
        "\n",
        "Polynomial Regression = Linear Regression + Curves\n",
        "\n",
        "Imagine you are predicting salary vs year\n",
        "\n",
        "| Experience | Salary |\n",
        "| ---------- | ------ |\n",
        "| 1          | 30k    |\n",
        "| 2          | 40k    |\n",
        "| 3          | 60k    |\n",
        "| 4          | 80k    |\n",
        "| 5          | 95k    |\n",
        "| 6          | 100k   |\n",
        "| 7          | 101k   |\n",
        "\n",
        "At first the salary increase quickly then slow down . so polynomial regression fits the curve perfectly\n",
        "\n",
        "Predict Salary Based on Experience\n",
        "\n",
        "Let’s say you collected the following data:\n",
        "\n",
        "\n",
        "| Experience (X) | Salary (Y in ₹000) |\n",
        "| -------------- | ------------------ |\n",
        "| 1              | 45                 |\n",
        "| 2              | 60                 |\n",
        "| 3              | 75                 |\n",
        "| 4              | 90                 |\n",
        "| 5              | 115                |\n",
        "\n",
        "\n",
        "Now you notice → the growth is not exactly straight.\n",
        "Salary increases faster after 4–5 years → looks curved upward.\n",
        "So, Polynomial Regression is a good fit.\n",
        "\n",
        "Step 1: Choose a Polynomial Degree\n",
        "Let’s try a degree 2 polynomial (Quadratic):\n",
        "Y=b0​+b1​X+b2​X2\n",
        "\n",
        "step 2: Substitute Data (Setup System)\n",
        "\n",
        "We’ll pick three data points to keep it easy to solve manually.\n",
        "| X | Y  | Substitute into Equation |\n",
        "| - | -- | ------------------------ |\n",
        "| 1 | 45 | 45 = b₀ + b₁(1) + b₂(1²) |\n",
        "| 2 | 60 | 60 = b₀ + b₁(2) + b₂(2²) |\n",
        "| 3 | 75 | 75 = b₀ + b₁(3) + b₂(3²) |\n",
        "\n",
        "b0​+b1​+b2​=45\n",
        "b0​+2b1​+4b2​=60\n",
        "b0​+3b1​+9b2​=75\n",
        "\n",
        "Step 3: Solve the Equations\n",
        "Let’s eliminate b0:\n",
        "\n",
        "Subtract (1) from (2):\n",
        "(b0​+2b1​+4b2​)−(b0​+b1​+b2​)=60−45\n",
        "\n",
        "b1​+3b2​=15...(4)\n",
        "\n",
        "Now subtract (2) from (3):\n",
        "\n",
        "(b0​+3b1​+9b2​)−(b0​+2b1​+4b2​)=75−60\n",
        "\n",
        "b1​+5b2​=15...(5)\n",
        "\n",
        "Subtract (4) from (5):\n",
        "\n",
        "(b1​+5b2​)−(b1​+3b2​)=15−15\n",
        "2b2​=0⇒b2​=0\n",
        "\n",
        "Plug b2 = 0 into (4)\n",
        "\n",
        "b1​+3(0)=15⇒b1​=15\n",
        "\n",
        "Now substitute b1 = 15, b2= 0 into (1)\n",
        "\n",
        "b0​+15+0=45⇒b0​=30\n",
        "\n",
        "Final Equation\n",
        " Y = 30  + 15X + 0X2(square)\n",
        "\n",
        "Our quadratic term turned out zero (means data is actually perfectly linear for first 3 points).Let’s use one more point to see curvature appear.\n",
        "\n"
      ],
      "metadata": {
        "id": "9iomp6B4-Js7"
      }
    },
    {
      "cell_type": "code",
      "source": [],
      "metadata": {
        "id": "ZOUZo60g98EN"
      },
      "execution_count": null,
      "outputs": []
    }
  ]
}